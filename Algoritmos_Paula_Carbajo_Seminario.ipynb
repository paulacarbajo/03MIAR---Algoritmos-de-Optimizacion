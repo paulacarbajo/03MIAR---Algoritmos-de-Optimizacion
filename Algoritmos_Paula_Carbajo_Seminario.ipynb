{
  "cells": [
    {
      "cell_type": "markdown",
      "metadata": {
        "id": "hVbXYX-RfPWh"
      },
      "source": [
        "# Algoritmos de optimización - Seminario<br>\n",
        "Nombre y Apellidos: Paula Carbajo Fernandez <br>\n",
        "Url: https://github.com/paulacarbajo/03MIAR---Algoritmos-de-Optimizacion<br>\n",
        "Problema:\n",
        ">3. Combinar cifras y operaciones\n",
        "\n",
        "**Descripción del problema:**\n",
        "• Disponemos de las 9 cifras del 1 al 9 (excluimos el cero) y de los 4 signos básicos de las\n",
        "operaciones fundamentales: suma(+), resta(-), multiplicación(*) y división(/)\n",
        "Debemos combinarlos alternativamente sin repetir ninguno de ellos para obtener una cantidad dada.\n",
        "\n",
        "\n",
        "\n",
        "\n",
        "\n",
        "\n",
        "                                        "
      ]
    },
    {
      "cell_type": "markdown",
      "metadata": {
        "id": "3_-exlrTgLd-"
      },
      "source": [
        "**PREGUNTA**\n",
        "\n",
        "(*)¿Cuantas posibilidades hay sin tener en cuenta las restricciones?<br>\n",
        "\n",
        "\n",
        "\n",
        "¿Cuantas posibilidades hay teniendo en cuenta todas las restricciones.\n",
        "\n",
        "\n"
      ]
    },
    {
      "cell_type": "markdown",
      "metadata": {
        "id": "WfCUqJyKhPcw"
      },
      "source": [
        "**RESPUESTA**\n",
        "\n",
        "Sin tener en cuenta las restricciones de no repetir digitos del 1 al 9, habría 2.162.160 posibilidades\n",
        "\n",
        "El no poder repetir números del 1 al 9 implica que el número máximo de digitos que habrá en una misma operación será de 5 (ya que los signos básicos se colocan alternativamente). Esto implica, generar grupos de 5 a partir de un conjunto de 9 digitos. Teniendo en cuenta las restricciones de no repetir números ni operaciones, habría 126 posibilidades.\n",
        "\n",
        "El número máximo que se podría calcular con este programa es 77 y número mínimo 1"
      ]
    },
    {
      "cell_type": "code",
      "execution_count": 18,
      "metadata": {
        "id": "iq6Fe32MgpDX"
      },
      "outputs": [
        {
          "name": "stdout",
          "output_type": "stream",
          "text": [
            "126.0\n",
            "2162160.0\n"
          ]
        }
      ],
      "source": [
        "import math\n",
        "conrestricciones = (math.factorial(9))/(math.factorial(5)*math.factorial(9-5))\n",
        "sinrestricciones = (math.factorial(9+5-1))/(math.factorial(5)*math.factorial(9-5))\n",
        "print(conrestricciones)\n",
        "print(sinrestricciones)"
      ]
    },
    {
      "cell_type": "markdown",
      "metadata": {
        "id": "dzynfVJahHoY"
      },
      "source": [
        "**PREGUNTA**\n",
        "\n",
        "Modelo para el espacio de soluciones<br>\n",
        "(*) ¿Cual es la estructura de datos que mejor se adapta al problema? Argumentalo.(Es posible que hayas elegido una al principio y veas la necesidad de cambiar, arguentalo)\n"
      ]
    },
    {
      "cell_type": "markdown",
      "metadata": {
        "id": "xFIJrOwKi2Ti"
      },
      "source": [
        "**RESPUESTA**\n",
        "\n",
        "La primera aproximación que haría sería mediante el uso de algortimos voraces y grafos. Este tipo de algoritmos consiste en trabajar por etapas eligiendo en cada una de ellas, una decisión para construir la solución que resulte más adecuada sin contemplar las consecuencias futuras. \n",
        "\n",
        "Para poder utilizar este tipo de algortimo se tienen que dar una serie de caracteristicas:\n",
        "- Que exista un conjunto de candidatos como solución\n",
        "- Que haya una función de seleccción para determinar el mejor candidato en cada paso y si es prometedor\n",
        "- Que exista una función objetivo\n",
        "- Que exista una función que compruebe si un subconjunto de entradas es una posible solucón optima al problema\n",
        "\n",
        "En este caso:\n",
        "- El conjunto de candidatos es el conjunto de todas las posibilidades de obtener el número N con las operaciones de los números del 1 al 9\n",
        "- La función de selección en cada etapa toma el número necesario para acercarse al resultado teniendo en cuenta la cantidad acumulada en las etapas anteriores\n",
        "- La función que comprueba si el subconjunto de candidatos es prometedor nos la proporciona las operaciones parciales que llevemos acumuladas en todas las etapas. \n",
        "- La función objetivo es la que nos proporciona los números hasta el momento. Esta función es la que queremos minimizar para poder llegar al número N con el mínimo número de operaciones. \n",
        "- La función que comprueba que una elección es una posible solución es similar a la que comprueba si un conjunto es prometedor. "
      ]
    },
    {
      "cell_type": "markdown",
      "metadata": {
        "id": "7Z9U2W7bi-XS"
      },
      "source": [
        "**PREGUNTA**\n",
        "\n",
        "Según el modelo para el espacio de soluciones<br>\n",
        "(*)¿Cual es la función objetivo?\n",
        "\n",
        "(*)¿Es un problema de maximización o minimización?"
      ]
    },
    {
      "cell_type": "markdown",
      "metadata": {
        "id": "hBalWLM7j1_d"
      },
      "source": [
        "**RESPUESTA**\n",
        "\n",
        "La función objetivo son la cantidad total de números que se pueden utilizar para minimizar la función, en este caso del 1 al 9. \n",
        "\n",
        "Se trata de un problema de minimización ya que el objetivo final es poder obtener la solución de un resultado pedido por el usuario utilizando un número menor de elementos a los dados. Sin embargo, el hecho de que sea un problema de minimización no implica que la solución obtenida sea la más óptima. Por ejemplo, podría darse el caso de obtener el mismo resultado utilizando números más pequeños."
      ]
    },
    {
      "cell_type": "markdown",
      "metadata": {
        "id": "rlnTYgY1j6I2"
      },
      "source": [
        "**PREGUNTA**\n",
        "\n",
        "Diseña un algoritmo para resolver el problema por fuerza bruta"
      ]
    },
    {
      "cell_type": "markdown",
      "metadata": {
        "id": "70rDgxYXkC8r"
      },
      "source": [
        "**RESPUESTA**"
      ]
    },
    {
      "cell_type": "code",
      "execution_count": 175,
      "metadata": {
        "id": "CJb5sQ0qkENy"
      },
      "outputs": [
        {
          "name": "stdout",
          "output_type": "stream",
          "text": [
            "7*6/2-4+3 = 20\n"
          ]
        }
      ],
      "source": [
        "import random\n",
        "import time\n",
        "from random import choice\n",
        "\n",
        "def operaciones(N: int):\n",
        "  numeros = [1,2,3,4,5,6,7,8,9]\n",
        "  ValorAcumulado = 0\n",
        "\n",
        "  if N > 78 or N < 1:\n",
        "    return (\"El valor de entrada tiene que ser mayor que 1 y menor de 78\")\n",
        "\n",
        "  while ValorAcumulado != N:\n",
        "    \n",
        "    valoraleatorio_mul1 = random.choice(numeros)\n",
        "    valoraleatorio_mul2 = random.choice(numeros)\n",
        "    while valoraleatorio_mul2 == valoraleatorio_mul1:\n",
        "        valoraleatorio_mul1 = random.choice(numeros)\n",
        "        valoraleatorio_mul2 = random.choice(numeros)\n",
        "    mul = valoraleatorio_mul1 * valoraleatorio_mul2\n",
        "    ValorAcumulado = mul\n",
        "\n",
        "\n",
        "    if mul != N:\n",
        "        valoraleatorio_div = random.choice(numeros)\n",
        "        while valoraleatorio_div == valoraleatorio_mul1 or valoraleatorio_div == valoraleatorio_mul2:\n",
        "            valoraleatorio_div = random.choice(numeros)\n",
        "        div = mul / valoraleatorio_div\n",
        "        ValorAcumulado = div\n",
        "\n",
        "    if div != N:\n",
        "        valoraleatorio_resta = random.choice(numeros)\n",
        "        while valoraleatorio_resta == valoraleatorio_div or valoraleatorio_resta == valoraleatorio_mul1 or valoraleatorio_resta == valoraleatorio_mul2:\n",
        "            valoraleatorio_resta = random.choice(numeros)\n",
        "        resta = div - valoraleatorio_resta\n",
        "        ValorAcumulado = resta\n",
        "\n",
        "    if resta != 0:\n",
        "        valoraleatorio_suma = random.choice(numeros)\n",
        "        while valoraleatorio_suma == valoraleatorio_div or valoraleatorio_suma == valoraleatorio_mul1 or valoraleatorio_suma == valoraleatorio_mul2 or valoraleatorio_suma == valoraleatorio_resta:\n",
        "            valoraleatorio_suma = random.choice(numeros)\n",
        "        suma = resta + valoraleatorio_suma\n",
        "        ValorAcumulado = suma\n",
        "       \n",
        "\n",
        "    if ValorAcumulado == N:\n",
        "      print(str(valoraleatorio_mul1) + \"*\" + str(valoraleatorio_mul2) + \"/\" + str(valoraleatorio_div) + \"-\" + str(valoraleatorio_resta) + \"+\" + str(valoraleatorio_suma) + \" = \"  + str(N))\n",
        "      break\n",
        "\n",
        "\n",
        "operaciones(20)"
      ]
    },
    {
      "cell_type": "code",
      "execution_count": 176,
      "metadata": {},
      "outputs": [
        {
          "name": "stdout",
          "output_type": "stream",
          "text": [
            "20.0\n"
          ]
        }
      ],
      "source": [
        "expresion=\"7*6/2-4+3\"\n",
        "print(eval(expresion))"
      ]
    },
    {
      "cell_type": "markdown",
      "metadata": {
        "id": "tgrnsC2nkFa8"
      },
      "source": [
        "**PREGUNTA**\n",
        "\n",
        "Calcula la complejidad del algoritmo por fuerza bruta"
      ]
    },
    {
      "cell_type": "markdown",
      "metadata": {
        "id": "9eUd3xwckP68"
      },
      "source": [
        "**RESPUESTA**\n",
        "\n",
        "- La complejidad del if es o(n)\n",
        "- La complejidad del while es log(o(n))\n",
        "\n",
        "Al estar anidados, la complejidad del algortimo es de orden exponencial"
      ]
    },
    {
      "cell_type": "markdown",
      "metadata": {
        "id": "txbrmLmskReM"
      },
      "source": [
        "**PREGUNTA**\n",
        "\n",
        "(*)Diseña un algoritmo que mejore la complejidad del algortimo por fuerza bruta. Argumenta porque crees que mejora el algoritmo por fuerza bruta"
      ]
    },
    {
      "cell_type": "markdown",
      "metadata": {},
      "source": [
        "**RESPUESTA**\n"
      ]
    },
    {
      "cell_type": "code",
      "execution_count": 159,
      "metadata": {},
      "outputs": [
        {
          "name": "stdout",
          "output_type": "stream",
          "text": [
            "1-2+7/3*9 = 20\n",
            "1-2+6/3*8 = 15\n",
            "1-3+8/2*9 = 34\n"
          ]
        }
      ],
      "source": [
        "import itertools\n",
        "from typing import List\n",
        "\n",
        "def find_expression(N: int) -> None:\n",
        "    \"\"\"\n",
        "    Finds a combination of numbers and operators that result in the value N.\n",
        "\n",
        "    Args:\n",
        "        N (int): The target value.\n",
        "\n",
        "    Returns:\n",
        "        None: Prints the expression if found, or None if no valid expression is found.\n",
        "    \"\"\"\n",
        "\n",
        "    # Define a list of numbers from 1 to 9\n",
        "    numbers: List[int] = [1, 2, 3, 4, 5, 6, 7, 8, 9]\n",
        "   \n",
        "    # Define a list of operators: +, -, *, /\n",
        "    operators: List[str] = ['+', '-', '*', '/']\n",
        "\n",
        "    # Iterate through all permutations of numbers\n",
        "    for perm_numbers in itertools.permutations(numbers):\n",
        "       \n",
        "        # Iterate through all permutations of operators\n",
        "        for perm_operators in itertools.permutations(operators):\n",
        "           \n",
        "            # Construct an expression by concatenating numbers and operators\n",
        "            expression = ''.join(f\"{n}{op}\" for n, op in zip(perm_numbers, perm_operators)) + str(perm_numbers[-1])\n",
        "           \n",
        "            # Evaluate the expression and check if it equals the target value N\n",
        "            if eval(expression) == N:\n",
        "                # Print the expression if it matches the target value\n",
        "                print(expression, \"=\", N)\n",
        "                return  # Exit the function if a valid expression is found\n",
        "            \n",
        "find_expression(20)\n",
        "find_expression(15)\n",
        "find_expression(34)"
      ]
    },
    {
      "cell_type": "markdown",
      "metadata": {
        "id": "eGDB4K6uk1iN"
      },
      "source": [
        "**PREGUNTA**\n",
        "\n",
        "(*)Calcula la complejidad del algoritmo"
      ]
    },
    {
      "cell_type": "markdown",
      "metadata": {
        "id": "NhpTh_BPk1ms"
      },
      "source": [
        "**RESPUESTA**\n",
        "\n",
        "\n",
        "Los bucles for son de complejidad n. Al estar anidados, la complejidad del algortimo optimizado es de complejidad cuadratica"
      ]
    },
    {
      "cell_type": "markdown",
      "metadata": {
        "id": "3M6QjTsSkmYe"
      },
      "source": [
        "**PREGUNTA**\n",
        "\n",
        "Según el problema (y tenga sentido), diseña un juego de datos de entrada aleatorios"
      ]
    },
    {
      "cell_type": "markdown",
      "metadata": {
        "id": "Jc3_OlyNkvjZ"
      },
      "source": [
        "**RESPUESTA**\n"
      ]
    },
    {
      "cell_type": "code",
      "execution_count": 160,
      "metadata": {
        "id": "sJ-N2etjkyWc"
      },
      "outputs": [],
      "source": [
        "def datos(M: int):\n",
        "    \n",
        "    numeros = random.sample(list(range(1,77)), M)\n",
        "    print(numeros)\n",
        "\n",
        "    for num in numeros:\n",
        "        sol = find_expression(num)\n",
        "    return"
      ]
    },
    {
      "cell_type": "markdown",
      "metadata": {
        "id": "zy5ZROmjlGo1"
      },
      "source": [
        "**PREGUNTA**\n",
        "\n",
        "Aplica el algoritmo al juego de datos generado"
      ]
    },
    {
      "cell_type": "markdown",
      "metadata": {
        "id": "_Cmj-PVylMsa"
      },
      "source": [
        "**RESPUESTA**\n"
      ]
    },
    {
      "cell_type": "code",
      "execution_count": 156,
      "metadata": {},
      "outputs": [
        {
          "name": "stdout",
          "output_type": "stream",
          "text": [
            "[28, 56, 16, 21, 65]\n",
            "1+5*6-9/3 = 28\n",
            "2-6/3+7*8 = 56\n",
            "1-3+4/2*9 = 16\n",
            "1-4+6/2*8 = 21\n",
            "4/1-2+7*9 = 65\n"
          ]
        }
      ],
      "source": [
        "datos(5)"
      ]
    },
    {
      "cell_type": "markdown",
      "metadata": {
        "id": "kAkDPUyRtYyH"
      },
      "source": [
        "**PREGUNTA**\n",
        "\n",
        "Describe brevemente las lineas de como crees que es posible avanzar en el estudio del problema. Ten en cuenta incluso posibles variaciones del problema y/o variaciones al alza del tamaño"
      ]
    },
    {
      "cell_type": "markdown",
      "metadata": {
        "id": "IE0uZmo-tZu-"
      },
      "source": [
        "**RESPUESTA**\n",
        "\n",
        "\n",
        "En este problema podemos ver claramente como la complejidad de los algoritmos aumenta proporcionalmente al tamaño de los datos a tener en cuenta. En el caso del algoritmo de fuerza mayor, al no haber restricción de aleatoriedad en los signos si no de alternancia, se puede controlar un poco la complejidad de este mismo aunque sigue siendo una estrategia basada en iteraciones de forma aleatoria. En cualquier caso, si el problema contemplase más números para poder usar a la hora de realizar la operación, nos encontrariamos con que su complejidad crecería exponencialmente.\n",
        "\n",
        "Se podría avanzar en el estudio del problema buscando por etapas la solución más óptima para la resolución. De esta manera, no habría necesidad de usar todos los operadores y reduciría significativamente las iteraciones que tendría que realizar el programa para encontrar los valores adecuados. Además, se podría encontrar la solución que realmente minimizase el problema. "
      ]
    }
  ],
  "metadata": {
    "colab": {
      "provenance": []
    },
    "kernelspec": {
      "display_name": "Python 3",
      "name": "python3"
    },
    "language_info": {
      "codemirror_mode": {
        "name": "ipython",
        "version": 3
      },
      "file_extension": ".py",
      "mimetype": "text/x-python",
      "name": "python",
      "nbconvert_exporter": "python",
      "pygments_lexer": "ipython3",
      "version": "3.11.3"
    }
  },
  "nbformat": 4,
  "nbformat_minor": 0
}
